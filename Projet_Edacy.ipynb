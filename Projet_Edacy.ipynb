{
 "cells": [
  {
   "cell_type": "code",
   "execution_count": 3,
   "metadata": {},
   "outputs": [],
   "source": [
    "import pandas as pd"
   ]
  },
  {
   "cell_type": "code",
   "execution_count": 4,
   "metadata": {},
   "outputs": [],
   "source": [
    "eleve=pd.read_excel(\"/home/babacar/Downloads/proget_edacy.xlsx\", index_col=None)"
   ]
  },
  {
   "cell_type": "code",
   "execution_count": 5,
   "metadata": {},
   "outputs": [
    {
     "data": {
      "text/html": [
       "<div>\n",
       "<style scoped>\n",
       "    .dataframe tbody tr th:only-of-type {\n",
       "        vertical-align: middle;\n",
       "    }\n",
       "\n",
       "    .dataframe tbody tr th {\n",
       "        vertical-align: top;\n",
       "    }\n",
       "\n",
       "    .dataframe thead th {\n",
       "        text-align: right;\n",
       "    }\n",
       "</style>\n",
       "<table border=\"1\" class=\"dataframe\">\n",
       "  <thead>\n",
       "    <tr style=\"text-align: right;\">\n",
       "      <th></th>\n",
       "      <th>Nom</th>\n",
       "      <th>Prenom</th>\n",
       "      <th>Adress</th>\n",
       "      <th>Moyenne</th>\n",
       "      <th>Age</th>\n",
       "      <th>Region</th>\n",
       "      <th>Specialité</th>\n",
       "      <th>Sexe</th>\n",
       "    </tr>\n",
       "  </thead>\n",
       "  <tbody>\n",
       "    <tr>\n",
       "      <th>0</th>\n",
       "      <td>diene</td>\n",
       "      <td>binta</td>\n",
       "      <td>yoff</td>\n",
       "      <td>14</td>\n",
       "      <td>18</td>\n",
       "      <td>dakar</td>\n",
       "      <td>data</td>\n",
       "      <td>f</td>\n",
       "    </tr>\n",
       "    <tr>\n",
       "      <th>1</th>\n",
       "      <td>diakhate</td>\n",
       "      <td>awa</td>\n",
       "      <td>guediaway</td>\n",
       "      <td>14</td>\n",
       "      <td>23</td>\n",
       "      <td>dakar</td>\n",
       "      <td>developpement</td>\n",
       "      <td>f</td>\n",
       "    </tr>\n",
       "    <tr>\n",
       "      <th>2</th>\n",
       "      <td>ba</td>\n",
       "      <td>omar</td>\n",
       "      <td>ouakam</td>\n",
       "      <td>15</td>\n",
       "      <td>17</td>\n",
       "      <td>France</td>\n",
       "      <td>data</td>\n",
       "      <td>m</td>\n",
       "    </tr>\n",
       "    <tr>\n",
       "      <th>3</th>\n",
       "      <td>lilo</td>\n",
       "      <td>malado</td>\n",
       "      <td>liberte</td>\n",
       "      <td>9</td>\n",
       "      <td>19</td>\n",
       "      <td>dakar</td>\n",
       "      <td>mobile</td>\n",
       "      <td>m</td>\n",
       "    </tr>\n",
       "    <tr>\n",
       "      <th>4</th>\n",
       "      <td>khoss</td>\n",
       "      <td>sossi</td>\n",
       "      <td>mariste</td>\n",
       "      <td>15</td>\n",
       "      <td>27</td>\n",
       "      <td>thies</td>\n",
       "      <td>web</td>\n",
       "      <td>m</td>\n",
       "    </tr>\n",
       "  </tbody>\n",
       "</table>\n",
       "</div>"
      ],
      "text/plain": [
       "        Nom  Prenom     Adress  Moyenne  Age  Region     Specialité Sexe\n",
       "0     diene   binta       yoff       14   18   dakar           data    f\n",
       "1  diakhate     awa  guediaway       14   23   dakar  developpement    f\n",
       "2        ba    omar     ouakam       15   17  France           data    m\n",
       "3      lilo  malado    liberte        9   19   dakar         mobile    m\n",
       "4     khoss   sossi    mariste       15   27   thies            web    m"
      ]
     },
     "execution_count": 5,
     "metadata": {},
     "output_type": "execute_result"
    }
   ],
   "source": [
    "eleve"
   ]
  },
  {
   "cell_type": "code",
   "execution_count": 6,
   "metadata": {},
   "outputs": [],
   "source": [
    "admis=eleve[eleve[\"Moyenne\"]>10]"
   ]
  },
  {
   "cell_type": "code",
   "execution_count": 7,
   "metadata": {},
   "outputs": [
    {
     "data": {
      "text/html": [
       "<div>\n",
       "<style scoped>\n",
       "    .dataframe tbody tr th:only-of-type {\n",
       "        vertical-align: middle;\n",
       "    }\n",
       "\n",
       "    .dataframe tbody tr th {\n",
       "        vertical-align: top;\n",
       "    }\n",
       "\n",
       "    .dataframe thead th {\n",
       "        text-align: right;\n",
       "    }\n",
       "</style>\n",
       "<table border=\"1\" class=\"dataframe\">\n",
       "  <thead>\n",
       "    <tr style=\"text-align: right;\">\n",
       "      <th></th>\n",
       "      <th>Nom</th>\n",
       "      <th>Prenom</th>\n",
       "      <th>Adress</th>\n",
       "      <th>Moyenne</th>\n",
       "      <th>Age</th>\n",
       "      <th>Region</th>\n",
       "      <th>Specialité</th>\n",
       "      <th>Sexe</th>\n",
       "    </tr>\n",
       "  </thead>\n",
       "  <tbody>\n",
       "    <tr>\n",
       "      <th>0</th>\n",
       "      <td>diene</td>\n",
       "      <td>binta</td>\n",
       "      <td>yoff</td>\n",
       "      <td>14</td>\n",
       "      <td>18</td>\n",
       "      <td>dakar</td>\n",
       "      <td>data</td>\n",
       "      <td>f</td>\n",
       "    </tr>\n",
       "    <tr>\n",
       "      <th>1</th>\n",
       "      <td>diakhate</td>\n",
       "      <td>awa</td>\n",
       "      <td>guediaway</td>\n",
       "      <td>14</td>\n",
       "      <td>23</td>\n",
       "      <td>dakar</td>\n",
       "      <td>developpement</td>\n",
       "      <td>f</td>\n",
       "    </tr>\n",
       "    <tr>\n",
       "      <th>2</th>\n",
       "      <td>ba</td>\n",
       "      <td>omar</td>\n",
       "      <td>ouakam</td>\n",
       "      <td>15</td>\n",
       "      <td>17</td>\n",
       "      <td>France</td>\n",
       "      <td>data</td>\n",
       "      <td>m</td>\n",
       "    </tr>\n",
       "    <tr>\n",
       "      <th>4</th>\n",
       "      <td>khoss</td>\n",
       "      <td>sossi</td>\n",
       "      <td>mariste</td>\n",
       "      <td>15</td>\n",
       "      <td>27</td>\n",
       "      <td>thies</td>\n",
       "      <td>web</td>\n",
       "      <td>m</td>\n",
       "    </tr>\n",
       "  </tbody>\n",
       "</table>\n",
       "</div>"
      ],
      "text/plain": [
       "        Nom Prenom     Adress  Moyenne  Age  Region     Specialité Sexe\n",
       "0     diene  binta       yoff       14   18   dakar           data    f\n",
       "1  diakhate    awa  guediaway       14   23   dakar  developpement    f\n",
       "2        ba   omar     ouakam       15   17  France           data    m\n",
       "4     khoss  sossi    mariste       15   27   thies            web    m"
      ]
     },
     "execution_count": 7,
     "metadata": {},
     "output_type": "execute_result"
    }
   ],
   "source": [
    "admis"
   ]
  },
  {
   "cell_type": "code",
   "execution_count": 8,
   "metadata": {},
   "outputs": [],
   "source": [
    "admis.to_excel(\"/home/babacar/Downloads/proget_edacy_admis.xlsx\")"
   ]
  },
  {
   "cell_type": "code",
   "execution_count": 9,
   "metadata": {},
   "outputs": [],
   "source": [
    "eleve_adulte=eleve[eleve[\"Age\"]>20]"
   ]
  },
  {
   "cell_type": "code",
   "execution_count": 10,
   "metadata": {},
   "outputs": [
    {
     "data": {
      "text/html": [
       "<div>\n",
       "<style scoped>\n",
       "    .dataframe tbody tr th:only-of-type {\n",
       "        vertical-align: middle;\n",
       "    }\n",
       "\n",
       "    .dataframe tbody tr th {\n",
       "        vertical-align: top;\n",
       "    }\n",
       "\n",
       "    .dataframe thead th {\n",
       "        text-align: right;\n",
       "    }\n",
       "</style>\n",
       "<table border=\"1\" class=\"dataframe\">\n",
       "  <thead>\n",
       "    <tr style=\"text-align: right;\">\n",
       "      <th></th>\n",
       "      <th>Nom</th>\n",
       "      <th>Prenom</th>\n",
       "      <th>Adress</th>\n",
       "      <th>Moyenne</th>\n",
       "      <th>Age</th>\n",
       "      <th>Region</th>\n",
       "      <th>Specialité</th>\n",
       "      <th>Sexe</th>\n",
       "    </tr>\n",
       "  </thead>\n",
       "  <tbody>\n",
       "    <tr>\n",
       "      <th>1</th>\n",
       "      <td>diakhate</td>\n",
       "      <td>awa</td>\n",
       "      <td>guediaway</td>\n",
       "      <td>14</td>\n",
       "      <td>23</td>\n",
       "      <td>dakar</td>\n",
       "      <td>developpement</td>\n",
       "      <td>f</td>\n",
       "    </tr>\n",
       "    <tr>\n",
       "      <th>4</th>\n",
       "      <td>khoss</td>\n",
       "      <td>sossi</td>\n",
       "      <td>mariste</td>\n",
       "      <td>15</td>\n",
       "      <td>27</td>\n",
       "      <td>thies</td>\n",
       "      <td>web</td>\n",
       "      <td>m</td>\n",
       "    </tr>\n",
       "  </tbody>\n",
       "</table>\n",
       "</div>"
      ],
      "text/plain": [
       "        Nom Prenom     Adress  Moyenne  Age Region     Specialité Sexe\n",
       "1  diakhate    awa  guediaway       14   23  dakar  developpement    f\n",
       "4     khoss  sossi    mariste       15   27  thies            web    m"
      ]
     },
     "execution_count": 10,
     "metadata": {},
     "output_type": "execute_result"
    }
   ],
   "source": [
    "eleve_adulte"
   ]
  },
  {
   "cell_type": "code",
   "execution_count": 12,
   "metadata": {},
   "outputs": [],
   "source": [
    "eleve_adulte.to_excel(\"/home/babacar/Downloads/proget_edacy_eleveAdulte.xlsx\")"
   ]
  },
  {
   "cell_type": "code",
   "execution_count": 13,
   "metadata": {},
   "outputs": [],
   "source": [
    "moyenne_ecole=eleve[\"Moyenne\"].mean()"
   ]
  },
  {
   "cell_type": "code",
   "execution_count": 14,
   "metadata": {},
   "outputs": [
    {
     "data": {
      "text/plain": [
       "13.4"
      ]
     },
     "execution_count": 14,
     "metadata": {},
     "output_type": "execute_result"
    }
   ],
   "source": [
    "moyenne_ecole"
   ]
  },
  {
   "cell_type": "code",
   "execution_count": 15,
   "metadata": {},
   "outputs": [],
   "source": [
    "filles=eleve[eleve[\"Sexe\"]==\"f\"]"
   ]
  },
  {
   "cell_type": "code",
   "execution_count": 16,
   "metadata": {},
   "outputs": [
    {
     "data": {
      "text/html": [
       "<div>\n",
       "<style scoped>\n",
       "    .dataframe tbody tr th:only-of-type {\n",
       "        vertical-align: middle;\n",
       "    }\n",
       "\n",
       "    .dataframe tbody tr th {\n",
       "        vertical-align: top;\n",
       "    }\n",
       "\n",
       "    .dataframe thead th {\n",
       "        text-align: right;\n",
       "    }\n",
       "</style>\n",
       "<table border=\"1\" class=\"dataframe\">\n",
       "  <thead>\n",
       "    <tr style=\"text-align: right;\">\n",
       "      <th></th>\n",
       "      <th>Nom</th>\n",
       "      <th>Prenom</th>\n",
       "      <th>Adress</th>\n",
       "      <th>Moyenne</th>\n",
       "      <th>Age</th>\n",
       "      <th>Region</th>\n",
       "      <th>Specialité</th>\n",
       "      <th>Sexe</th>\n",
       "    </tr>\n",
       "  </thead>\n",
       "  <tbody>\n",
       "    <tr>\n",
       "      <th>0</th>\n",
       "      <td>diene</td>\n",
       "      <td>binta</td>\n",
       "      <td>yoff</td>\n",
       "      <td>14</td>\n",
       "      <td>18</td>\n",
       "      <td>dakar</td>\n",
       "      <td>data</td>\n",
       "      <td>f</td>\n",
       "    </tr>\n",
       "    <tr>\n",
       "      <th>1</th>\n",
       "      <td>diakhate</td>\n",
       "      <td>awa</td>\n",
       "      <td>guediaway</td>\n",
       "      <td>14</td>\n",
       "      <td>23</td>\n",
       "      <td>dakar</td>\n",
       "      <td>developpement</td>\n",
       "      <td>f</td>\n",
       "    </tr>\n",
       "  </tbody>\n",
       "</table>\n",
       "</div>"
      ],
      "text/plain": [
       "        Nom Prenom     Adress  Moyenne  Age Region     Specialité Sexe\n",
       "0     diene  binta       yoff       14   18  dakar           data    f\n",
       "1  diakhate    awa  guediaway       14   23  dakar  developpement    f"
      ]
     },
     "execution_count": 16,
     "metadata": {},
     "output_type": "execute_result"
    }
   ],
   "source": [
    "filles"
   ]
  },
  {
   "cell_type": "code",
   "execution_count": 17,
   "metadata": {},
   "outputs": [
    {
     "data": {
      "text/plain": [
       "2"
      ]
     },
     "execution_count": 17,
     "metadata": {},
     "output_type": "execute_result"
    }
   ],
   "source": [
    "filles[\"Nom\"].count()"
   ]
  },
  {
   "cell_type": "code",
   "execution_count": 18,
   "metadata": {},
   "outputs": [],
   "source": [
    "pourcentage_filles=(filles[\"Nom\"].count()/eleve[\"Nom\"].count())*100"
   ]
  },
  {
   "cell_type": "code",
   "execution_count": 19,
   "metadata": {},
   "outputs": [
    {
     "data": {
      "text/plain": [
       "40.0"
      ]
     },
     "execution_count": 19,
     "metadata": {},
     "output_type": "execute_result"
    }
   ],
   "source": [
    "pourcentage_filles"
   ]
  },
  {
   "cell_type": "code",
   "execution_count": 20,
   "metadata": {},
   "outputs": [],
   "source": [
    "garçons=eleve[eleve[\"Sexe\"]==\"m\"]"
   ]
  },
  {
   "cell_type": "code",
   "execution_count": 21,
   "metadata": {},
   "outputs": [
    {
     "data": {
      "text/plain": [
       "3"
      ]
     },
     "execution_count": 21,
     "metadata": {},
     "output_type": "execute_result"
    }
   ],
   "source": [
    "garçons[\"Nom\"].count()"
   ]
  },
  {
   "cell_type": "code",
   "execution_count": 22,
   "metadata": {},
   "outputs": [],
   "source": [
    "pourcentage_garçons=(garçons[\"Nom\"].count()/eleve[\"Nom\"].count())*100"
   ]
  },
  {
   "cell_type": "code",
   "execution_count": 23,
   "metadata": {},
   "outputs": [
    {
     "data": {
      "text/plain": [
       "60.0"
      ]
     },
     "execution_count": 23,
     "metadata": {},
     "output_type": "execute_result"
    }
   ],
   "source": [
    "pourcentage_garçons"
   ]
  },
  {
   "cell_type": "code",
   "execution_count": 24,
   "metadata": {},
   "outputs": [],
   "source": [
    "region_meilleurs_eleves=eleve.sort_values(by=\"Moyenne\", ascending=False)"
   ]
  },
  {
   "cell_type": "code",
   "execution_count": 25,
   "metadata": {},
   "outputs": [
    {
     "data": {
      "text/html": [
       "<div>\n",
       "<style scoped>\n",
       "    .dataframe tbody tr th:only-of-type {\n",
       "        vertical-align: middle;\n",
       "    }\n",
       "\n",
       "    .dataframe tbody tr th {\n",
       "        vertical-align: top;\n",
       "    }\n",
       "\n",
       "    .dataframe thead th {\n",
       "        text-align: right;\n",
       "    }\n",
       "</style>\n",
       "<table border=\"1\" class=\"dataframe\">\n",
       "  <thead>\n",
       "    <tr style=\"text-align: right;\">\n",
       "      <th></th>\n",
       "      <th>Nom</th>\n",
       "      <th>Prenom</th>\n",
       "      <th>Adress</th>\n",
       "      <th>Moyenne</th>\n",
       "      <th>Age</th>\n",
       "      <th>Region</th>\n",
       "      <th>Specialité</th>\n",
       "      <th>Sexe</th>\n",
       "    </tr>\n",
       "  </thead>\n",
       "  <tbody>\n",
       "    <tr>\n",
       "      <th>2</th>\n",
       "      <td>ba</td>\n",
       "      <td>omar</td>\n",
       "      <td>ouakam</td>\n",
       "      <td>15</td>\n",
       "      <td>17</td>\n",
       "      <td>France</td>\n",
       "      <td>data</td>\n",
       "      <td>m</td>\n",
       "    </tr>\n",
       "    <tr>\n",
       "      <th>4</th>\n",
       "      <td>khoss</td>\n",
       "      <td>sossi</td>\n",
       "      <td>mariste</td>\n",
       "      <td>15</td>\n",
       "      <td>27</td>\n",
       "      <td>thies</td>\n",
       "      <td>web</td>\n",
       "      <td>m</td>\n",
       "    </tr>\n",
       "    <tr>\n",
       "      <th>0</th>\n",
       "      <td>diene</td>\n",
       "      <td>binta</td>\n",
       "      <td>yoff</td>\n",
       "      <td>14</td>\n",
       "      <td>18</td>\n",
       "      <td>dakar</td>\n",
       "      <td>data</td>\n",
       "      <td>f</td>\n",
       "    </tr>\n",
       "    <tr>\n",
       "      <th>1</th>\n",
       "      <td>diakhate</td>\n",
       "      <td>awa</td>\n",
       "      <td>guediaway</td>\n",
       "      <td>14</td>\n",
       "      <td>23</td>\n",
       "      <td>dakar</td>\n",
       "      <td>developpement</td>\n",
       "      <td>f</td>\n",
       "    </tr>\n",
       "    <tr>\n",
       "      <th>3</th>\n",
       "      <td>lilo</td>\n",
       "      <td>malado</td>\n",
       "      <td>liberte</td>\n",
       "      <td>9</td>\n",
       "      <td>19</td>\n",
       "      <td>dakar</td>\n",
       "      <td>mobile</td>\n",
       "      <td>m</td>\n",
       "    </tr>\n",
       "  </tbody>\n",
       "</table>\n",
       "</div>"
      ],
      "text/plain": [
       "        Nom  Prenom     Adress  Moyenne  Age  Region     Specialité Sexe\n",
       "2        ba    omar     ouakam       15   17  France           data    m\n",
       "4     khoss   sossi    mariste       15   27   thies            web    m\n",
       "0     diene   binta       yoff       14   18   dakar           data    f\n",
       "1  diakhate     awa  guediaway       14   23   dakar  developpement    f\n",
       "3      lilo  malado    liberte        9   19   dakar         mobile    m"
      ]
     },
     "execution_count": 25,
     "metadata": {},
     "output_type": "execute_result"
    }
   ],
   "source": [
    "region_meilleurs_eleves"
   ]
  },
  {
   "cell_type": "code",
   "execution_count": 26,
   "metadata": {},
   "outputs": [],
   "source": [
    "region_meilleurs_eleves=region_meilleurs_eleves[\"Region\"].head(1)"
   ]
  },
  {
   "cell_type": "code",
   "execution_count": 27,
   "metadata": {},
   "outputs": [
    {
     "data": {
      "text/plain": [
       "2    France\n",
       "Name: Region, dtype: object"
      ]
     },
     "execution_count": 27,
     "metadata": {},
     "output_type": "execute_result"
    }
   ],
   "source": [
    "region_meilleurs_eleves"
   ]
  },
  {
   "cell_type": "code",
   "execution_count": 28,
   "metadata": {},
   "outputs": [],
   "source": [
    "d={'moyenne_ecole':moyenne_ecole, 'pourcentage_filles':pourcentage_filles,  'pourcentage_garçons':pourcentage_garçons,\n",
    "      'region_meilleurs_eleves':region_meilleurs_eleves}"
   ]
  },
  {
   "cell_type": "code",
   "execution_count": 29,
   "metadata": {},
   "outputs": [],
   "source": [
    "stats_globales_ecole=pd.DataFrame(data=d)"
   ]
  },
  {
   "cell_type": "code",
   "execution_count": 30,
   "metadata": {},
   "outputs": [
    {
     "data": {
      "text/html": [
       "<div>\n",
       "<style scoped>\n",
       "    .dataframe tbody tr th:only-of-type {\n",
       "        vertical-align: middle;\n",
       "    }\n",
       "\n",
       "    .dataframe tbody tr th {\n",
       "        vertical-align: top;\n",
       "    }\n",
       "\n",
       "    .dataframe thead th {\n",
       "        text-align: right;\n",
       "    }\n",
       "</style>\n",
       "<table border=\"1\" class=\"dataframe\">\n",
       "  <thead>\n",
       "    <tr style=\"text-align: right;\">\n",
       "      <th></th>\n",
       "      <th>moyenne_ecole</th>\n",
       "      <th>pourcentage_filles</th>\n",
       "      <th>pourcentage_garçons</th>\n",
       "      <th>region_meilleurs_eleves</th>\n",
       "    </tr>\n",
       "  </thead>\n",
       "  <tbody>\n",
       "    <tr>\n",
       "      <th>2</th>\n",
       "      <td>13.4</td>\n",
       "      <td>40.0</td>\n",
       "      <td>60.0</td>\n",
       "      <td>France</td>\n",
       "    </tr>\n",
       "  </tbody>\n",
       "</table>\n",
       "</div>"
      ],
      "text/plain": [
       "   moyenne_ecole  pourcentage_filles  pourcentage_garçons  \\\n",
       "2           13.4                40.0                 60.0   \n",
       "\n",
       "  region_meilleurs_eleves  \n",
       "2                  France  "
      ]
     },
     "execution_count": 30,
     "metadata": {},
     "output_type": "execute_result"
    }
   ],
   "source": [
    "stats_globales_ecole"
   ]
  },
  {
   "cell_type": "code",
   "execution_count": 31,
   "metadata": {},
   "outputs": [],
   "source": [
    "stats_globales_ecole.to_excel(\"/home/babacar/Downloads/proget_edacy_stats_globales_ecole.xlsx\")"
   ]
  },
  {
   "cell_type": "code",
   "execution_count": null,
   "metadata": {},
   "outputs": [],
   "source": []
  }
 ],
 "metadata": {
  "kernelspec": {
   "display_name": "Python 3",
   "language": "python",
   "name": "python3"
  },
  "language_info": {
   "codemirror_mode": {
    "name": "ipython",
    "version": 3
   },
   "file_extension": ".py",
   "mimetype": "text/x-python",
   "name": "python",
   "nbconvert_exporter": "python",
   "pygments_lexer": "ipython3",
   "version": "3.6.5"
  }
 },
 "nbformat": 4,
 "nbformat_minor": 2
}
